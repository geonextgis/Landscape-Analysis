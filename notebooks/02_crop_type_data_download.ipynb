{
 "cells": [
  {
   "cell_type": "code",
   "execution_count": 1,
   "id": "e410d6d3",
   "metadata": {},
   "outputs": [],
   "source": [
    "from hda import Client, Configuration\n",
    "import os\n",
    "\n",
    "download_dir = r\"E:\\HALDER\\DATA\\DE_Crop_Types_2017_2021\""
   ]
  },
  {
   "cell_type": "code",
   "execution_count": 2,
   "id": "3566a8e1",
   "metadata": {},
   "outputs": [],
   "source": [
    "# Configure user's credentials without a .hdarc\n",
    "conf = Configuration(user = \"krishhalder\", password = \"@Supriya290196@\")\n",
    "hda_client = Client(config = conf)"
   ]
  },
  {
   "cell_type": "code",
   "execution_count": null,
   "id": "7bdfb1e6",
   "metadata": {},
   "outputs": [],
   "source": [
    "years = range(2017, 2022)\n",
    "\n",
    "for year in years:\n",
    "    print(\"*\"*50)\n",
    "    print(year)\n",
    "    out_dir = os.path.join(download_dir, str(year))\n",
    "\n",
    "    if os.path.exists(out_dir)==False:\n",
    "        os.mkdir(out_dir)\n",
    "        print('Directory successfully created!')\n",
    "\n",
    "    # The JSON query loaded in the \"query\" variable\n",
    "    query = {\n",
    "    \"dataset_id\": \"EO:EEA:DAT:HRL:CRL\",\n",
    "    \"product_type\": \"Crop Types\",\n",
    "    \"resolution\": \"10m\",\n",
    "    \"year\": str(year),\n",
    "    \"bbox\": [\n",
    "        5.867367019999999,\n",
    "        47.27011403,\n",
    "        15.040898459999998,\n",
    "        55.05719656\n",
    "    ],\n",
    "    \"itemsPerPage\": 200,\n",
    "    \"startIndex\": 0\n",
    "    }\n",
    "\n",
    "    # Ask the result for the query passed in parameter\n",
    "    matches = hda_client.search(query)\n",
    "\n",
    "    # List the results\n",
    "    print(matches)\n",
    "\n",
    "    # Download results in a directory\n",
    "    matches.download(download_dir=out_dir)"
   ]
  }
 ],
 "metadata": {
  "kernelspec": {
   "display_name": "py312",
   "language": "python",
   "name": "python3"
  },
  "language_info": {
   "codemirror_mode": {
    "name": "ipython",
    "version": 3
   },
   "file_extension": ".py",
   "mimetype": "text/x-python",
   "name": "python",
   "nbconvert_exporter": "python",
   "pygments_lexer": "ipython3",
   "version": "3.12.3"
  }
 },
 "nbformat": 4,
 "nbformat_minor": 5
}
