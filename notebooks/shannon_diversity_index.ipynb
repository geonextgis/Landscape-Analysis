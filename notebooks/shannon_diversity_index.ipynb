{
 "cells": [
  {
   "cell_type": "markdown",
   "id": "ec5ed6b5",
   "metadata": {},
   "source": [
    "## **Import Dependencies**"
   ]
  },
  {
   "cell_type": "code",
   "execution_count": 5,
   "id": "e32d95a9",
   "metadata": {},
   "outputs": [],
   "source": [
    "import numpy as np\n",
    "import pandas as pd\n",
    "import matplotlib.pyplot as plt\n",
    "import seaborn as sns\n",
    "import geopandas as gpd\n",
    "import rasterio as rio\n",
    "import os\n",
    "from scipy.ndimage import generic_filter\n",
    "from collections import Counter\n",
    "\n",
    "import warnings\n",
    "warnings.filterwarnings('ignore')\n",
    "\n",
    "plt.rcParams['font.family'] = 'DeJavu Serif'\n",
    "plt.rcParams['font.serif'] = 'Times New Roman'\n",
    "\n",
    "data_dir = r'E:\\HALDER\\DATA'"
   ]
  },
  {
   "cell_type": "markdown",
   "id": "4360ace6",
   "metadata": {},
   "source": [
    "## **Read the Datasets**"
   ]
  },
  {
   "cell_type": "code",
   "execution_count": 3,
   "id": "43ff5b09",
   "metadata": {},
   "outputs": [],
   "source": [
    "lulc_path = os.path.join(data_dir, 'CLC_LULC_2021_DE', 'CLCplus_RASTER_2021_010m_03035', \n",
    "                         'CLCplus_RASTER_2021_010m_03035', 'CLCplus_RASTER_2021_010m_03035.tif')\n",
    "\n",
    "with rio.open(lulc_path) as src:\n",
    "    lulc = src.read(1)\n",
    "    profile = src.profile"
   ]
  },
  {
   "cell_type": "code",
   "execution_count": 7,
   "id": "1745c3de",
   "metadata": {},
   "outputs": [],
   "source": [
    "def shannon_entropy(window):\n",
    "    \"\"\"Compute SHDI for a flattened moving window.\"\"\"\n",
    "    values = window[window > 0]  # optionally ignore background/NoData\n",
    "    if len(values) == 0:\n",
    "        return 0\n",
    "    counts = Counter(values)\n",
    "    total = sum(counts.values())\n",
    "    proportions = np.array([count / total for count in counts.values()])\n",
    "    return -np.sum(proportions * np.log(proportions))\n",
    "\n",
    "def compute_shdi_moving_window(input_raster, output_raster, window_size=3):\n",
    "    with rio.open(input_raster) as src:\n",
    "        data = src.read(1)\n",
    "        profile = src.profile\n",
    "        nodata = src.nodata or 0  # set default NoData if undefined\n",
    "\n",
    "    # Replace nodata with 0 if needed (assuming 0 is not a valid class)\n",
    "    data = np.where(data == nodata, 0, data)\n",
    "\n",
    "    # Apply SHDI function over the raster using a moving window\n",
    "    result = generic_filter(\n",
    "        data,\n",
    "        function=shannon_entropy,\n",
    "        size=window_size,\n",
    "        mode='constant',\n",
    "        cval=0  # pad with 0s outside the edges\n",
    "    )\n",
    "\n",
    "    # Save result\n",
    "    profile.update(dtype='float32', count=1, nodata=None)\n",
    "    with rio.open(output_raster, 'w', **profile) as dst:\n",
    "        dst.write(result.astype(np.float32), 1)"
   ]
  },
  {
   "cell_type": "code",
   "execution_count": null,
   "id": "78164c8c",
   "metadata": {},
   "outputs": [],
   "source": [
    "compute_shdi_moving_window(lulc_path, 'shdi_window.tif', window_size=9)"
   ]
  }
 ],
 "metadata": {
  "kernelspec": {
   "display_name": "py312",
   "language": "python",
   "name": "python3"
  },
  "language_info": {
   "codemirror_mode": {
    "name": "ipython",
    "version": 3
   },
   "file_extension": ".py",
   "mimetype": "text/x-python",
   "name": "python",
   "nbconvert_exporter": "python",
   "pygments_lexer": "ipython3",
   "version": "3.12.3"
  }
 },
 "nbformat": 4,
 "nbformat_minor": 5
}
