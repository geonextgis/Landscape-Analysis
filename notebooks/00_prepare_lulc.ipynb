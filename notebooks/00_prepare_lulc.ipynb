{
 "cells": [
  {
   "cell_type": "markdown",
   "id": "eb1ee581",
   "metadata": {},
   "source": [
    "## **Import Dependencies**"
   ]
  },
  {
   "cell_type": "code",
   "execution_count": 1,
   "id": "b8d872f4",
   "metadata": {},
   "outputs": [],
   "source": [
    "import numpy as np\n",
    "import pandas as pd\n",
    "import matplotlib.pyplot as plt\n",
    "import seaborn as sns\n",
    "import geopandas as gpd\n",
    "import rasterio as rio\n",
    "from rasterio.merge import merge\n",
    "import os\n",
    "from glob import glob\n",
    "\n",
    "import warnings\n",
    "warnings.filterwarnings('ignore')\n",
    "\n",
    "plt.rcParams['font.family'] = 'DeJavu Serif'\n",
    "plt.rcParams['font.serif'] = 'Times New Roman'\n",
    "\n",
    "data_dir = r'E:\\HALDER\\DATA'"
   ]
  },
  {
   "cell_type": "markdown",
   "id": "cb5f0b16",
   "metadata": {},
   "source": [
    "## **Merge LULC Patches**"
   ]
  },
  {
   "cell_type": "code",
   "execution_count": 2,
   "id": "9696bcf4",
   "metadata": {},
   "outputs": [
    {
     "name": "stdout",
     "output_type": "stream",
     "text": [
      "Number of file paths: 19\n"
     ]
    }
   ],
   "source": [
    "# Store all the file paths\n",
    "file_paths = glob(os.path.join(data_dir, 'ESA_WORLDCOVER_10M_2021_V200', 'MAP', '*', '*Map.tif'))\n",
    "print(f'Number of file paths: {len(file_paths)}')\n",
    "\n",
    "# Open all the ratser data\n",
    "src_file_to_mosaic = [rio.open(fp) for fp in file_paths]\n",
    "\n",
    "# # Merge the rasters\n",
    "# mosaic, out_trans = merge(src_file_to_mosaic)\n",
    "\n",
    "# # Close all the input files\n",
    "# for src in src_file_to_mosaic:\n",
    "#     src.close()"
   ]
  },
  {
   "cell_type": "code",
   "execution_count": 3,
   "id": "8a691463",
   "metadata": {},
   "outputs": [
    {
     "ename": "MemoryError",
     "evalue": "Unable to allocate 1.21 GiB for an array with shape (1, 36000, 36000) and data type uint8",
     "output_type": "error",
     "traceback": [
      "\u001b[31m---------------------------------------------------------------------------\u001b[39m",
      "\u001b[31mMemoryError\u001b[39m                               Traceback (most recent call last)",
      "\u001b[36mCell\u001b[39m\u001b[36m \u001b[39m\u001b[32mIn[3]\u001b[39m\u001b[32m, line 1\u001b[39m\n\u001b[32m----> \u001b[39m\u001b[32m1\u001b[39m vrt, out_transform = \u001b[43mmerge\u001b[49m\u001b[43m(\u001b[49m\u001b[43msrc_file_to_mosaic\u001b[49m\u001b[43m,\u001b[49m\u001b[43m \u001b[49m\u001b[43mmethod\u001b[49m\u001b[43m=\u001b[49m\u001b[33;43m'\u001b[39;49m\u001b[33;43mfirst\u001b[39;49m\u001b[33;43m'\u001b[39;49m\u001b[43m,\u001b[49m\u001b[43m \u001b[49m\u001b[43mnodata\u001b[49m\u001b[43m=\u001b[49m\u001b[32;43m0\u001b[39;49m\u001b[43m,\u001b[49m\u001b[43m \u001b[49m\u001b[43mdtype\u001b[49m\u001b[43m=\u001b[49m\u001b[33;43m'\u001b[39;49m\u001b[33;43muint8\u001b[39;49m\u001b[33;43m'\u001b[39;49m\u001b[43m,\u001b[49m\u001b[43m \u001b[49m\u001b[43mindexes\u001b[49m\u001b[43m=\u001b[49m\u001b[32;43m1\u001b[39;49m\u001b[43m)\u001b[49m\n",
      "\u001b[36mFile \u001b[39m\u001b[32mc:\\Users\\halde\\miniconda3\\envs\\py312\\Lib\\site-packages\\rasterio\\merge.py:483\u001b[39m, in \u001b[36mmerge\u001b[39m\u001b[34m(sources, bounds, res, nodata, dtype, precision, indexes, output_count, resampling, method, target_aligned_pixels, mem_limit, use_highest_res, masked, dst_path, dst_kwds)\u001b[39m\n\u001b[32m    480\u001b[39m         \u001b[38;5;28;01melse\u001b[39;00m:\n\u001b[32m    481\u001b[39m             region_mask = region == nodataval\n\u001b[32m--> \u001b[39m\u001b[32m483\u001b[39m         data = \u001b[43msrc\u001b[49m\u001b[43m.\u001b[49m\u001b[43mread\u001b[49m\u001b[43m(\u001b[49m\n\u001b[32m    484\u001b[39m \u001b[43m            \u001b[49m\u001b[43mout_shape\u001b[49m\u001b[43m=\u001b[49m\u001b[43m(\u001b[49m\u001b[43msrc_count\u001b[49m\u001b[43m,\u001b[49m\u001b[43m \u001b[49m\u001b[43mcw\u001b[49m\u001b[43m.\u001b[49m\u001b[43mheight\u001b[49m\u001b[43m,\u001b[49m\u001b[43m \u001b[49m\u001b[43mcw\u001b[49m\u001b[43m.\u001b[49m\u001b[43mwidth\u001b[49m\u001b[43m)\u001b[49m\u001b[43m,\u001b[49m\n\u001b[32m    485\u001b[39m \u001b[43m            \u001b[49m\u001b[43mindexes\u001b[49m\u001b[43m=\u001b[49m\u001b[43mindexes\u001b[49m\u001b[43m,\u001b[49m\n\u001b[32m    486\u001b[39m \u001b[43m            \u001b[49m\u001b[43mmasked\u001b[49m\u001b[43m=\u001b[49m\u001b[38;5;28;43;01mTrue\u001b[39;49;00m\u001b[43m,\u001b[49m\n\u001b[32m    487\u001b[39m \u001b[43m            \u001b[49m\u001b[43mwindow\u001b[49m\u001b[43m=\u001b[49m\u001b[43msw\u001b[49m\u001b[43m,\u001b[49m\n\u001b[32m    488\u001b[39m \u001b[43m            \u001b[49m\u001b[43mresampling\u001b[49m\u001b[43m=\u001b[49m\u001b[43mresampling\u001b[49m\u001b[43m,\u001b[49m\n\u001b[32m    489\u001b[39m \u001b[43m        \u001b[49m\u001b[43m)\u001b[49m\n\u001b[32m    491\u001b[39m         copyto(\n\u001b[32m    492\u001b[39m             region,\n\u001b[32m    493\u001b[39m             data,\n\u001b[32m   (...)\u001b[39m\u001b[32m    498\u001b[39m             coff=cw.col_off,\n\u001b[32m    499\u001b[39m         )\n\u001b[32m    501\u001b[39m \u001b[38;5;28;01mif\u001b[39;00m dst:\n",
      "\u001b[36mFile \u001b[39m\u001b[32mrasterio\\\\_io.pyx:620\u001b[39m, in \u001b[36mrasterio._io.DatasetReaderBase.read\u001b[39m\u001b[34m()\u001b[39m\n",
      "\u001b[31mMemoryError\u001b[39m: Unable to allocate 1.21 GiB for an array with shape (1, 36000, 36000) and data type uint8"
     ]
    }
   ],
   "source": [
    "vrt, out_transform = merge(src_file_to_mosaic, method='first', nodata=0, dtype='uint8', indexes=1)"
   ]
  }
 ],
 "metadata": {
  "kernelspec": {
   "display_name": "py312",
   "language": "python",
   "name": "python3"
  },
  "language_info": {
   "codemirror_mode": {
    "name": "ipython",
    "version": 3
   },
   "file_extension": ".py",
   "mimetype": "text/x-python",
   "name": "python",
   "nbconvert_exporter": "python",
   "pygments_lexer": "ipython3",
   "version": "3.12.3"
  }
 },
 "nbformat": 4,
 "nbformat_minor": 5
}
