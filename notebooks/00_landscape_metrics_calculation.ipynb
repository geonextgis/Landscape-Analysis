{
 "cells": [
  {
   "cell_type": "markdown",
   "id": "c8ae8877-2567-450f-a0de-08d68fd0e5bb",
   "metadata": {},
   "source": [
    "# **Landscape Metrics Calculation**"
   ]
  },
  {
   "cell_type": "markdown",
   "id": "eb1ee581",
   "metadata": {},
   "source": [
    "## **Import Dependencies**"
   ]
  },
  {
   "cell_type": "code",
   "execution_count": 1,
   "id": "b8d872f4",
   "metadata": {},
   "outputs": [],
   "source": [
    "import numpy as np\n",
    "import pandas as pd\n",
    "import matplotlib.pyplot as plt\n",
    "import seaborn as sns\n",
    "import geopandas as gpd\n",
    "import rasterio as rio\n",
    "from rasterio.merge import merge\n",
    "import os\n",
    "from glob import glob\n",
    "from landscape_window import calculate_shdi_for_grids\n",
    "import pylandstats as pls\n",
    "\n",
    "import warnings\n",
    "warnings.filterwarnings('ignore')\n",
    "\n",
    "plt.rcParams['font.family'] = 'DeJavu Serif'\n",
    "plt.rcParams['font.serif'] = 'Times New Roman'\n",
    "\n",
    "data_dir = r'/beegfs/halder/jupyter_playgroundnoconda_p3.12_1/jupyter_work/project/DATA'\n",
    "out_dir = r'/beegfs/halder/jupyter_playgroundnoconda_p3.12_1/jupyter_work/project/GITHUB/Landscape-Analysis/data'"
   ]
  },
  {
   "cell_type": "markdown",
   "id": "cb5f0b16",
   "metadata": {},
   "source": [
    "## **Merge LULC Patches**"
   ]
  },
  {
   "cell_type": "code",
   "execution_count": 2,
   "id": "9696bcf4",
   "metadata": {},
   "outputs": [],
   "source": [
    "# # Store all the file paths\n",
    "# file_paths = glob(os.path.join(data_dir, 'ESA_WORLDCOVER_10M_2021_V200', 'MAP', '*', '*Map.tif'))\n",
    "# print(f'Number of file paths: {len(file_paths)}')\n",
    "\n",
    "# # Open all the ratser data\n",
    "# src_file_to_mosaic = [rio.open(fp) for fp in file_paths]\n",
    "\n",
    "# # Merge the rasters\n",
    "# mosaic, out_trans = merge(src_file_to_mosaic)\n",
    "\n",
    "# # Close all the input files\n",
    "# for src in src_file_to_mosaic:\n",
    "#     src.close()"
   ]
  },
  {
   "cell_type": "markdown",
   "id": "0677358e-1c36-4f56-af7b-8ee61be55538",
   "metadata": {},
   "source": [
    "## **Save the Merged LULC**"
   ]
  },
  {
   "cell_type": "code",
   "execution_count": 3,
   "id": "cd3b4fdc-b2c0-4e4f-99f1-80450289e8d1",
   "metadata": {},
   "outputs": [],
   "source": [
    "# # Prepare metadata\n",
    "# meta = src.meta.copy()\n",
    "# meta.update({\n",
    "#     \"driver\": \"GTiff\",\n",
    "#     \"height\": mosaic.shape[1],\n",
    "#     \"width\": mosaic.shape[2],\n",
    "#     \"transform\": out_trans,\n",
    "#     \"count\": 1,\n",
    "#     \"dtype\": \"uint8\",\n",
    "#     \"compress\": \"lzw\",  \n",
    "#     \"predictor\": 2\n",
    "# })\n",
    "\n",
    "# # Write output raster\n",
    "# output_path = os.path.join(out_dir, \"ESA_WorldCover_2021_DE.tif\")\n",
    "# with rio.open(output_path, \"w\", **meta) as dst:\n",
    "#     dst.write(mosaic[0], 1)\n",
    "\n",
    "# print(f\"Output saved to: {output_path}\")"
   ]
  },
  {
   "cell_type": "markdown",
   "id": "9a65b297-f742-4e47-91dd-a5db9fadd432",
   "metadata": {},
   "source": [
    "## **Landscape Metrics**"
   ]
  },
  {
   "cell_type": "code",
   "execution_count": 4,
   "id": "fdb38d34-dbcb-4589-8fc3-9e340e56a59e",
   "metadata": {},
   "outputs": [
    {
     "name": "stdout",
     "output_type": "stream",
     "text": [
      "(125, 8)\n"
     ]
    },
    {
     "data": {
      "text/html": [
       "<div>\n",
       "<style scoped>\n",
       "    .dataframe tbody tr th:only-of-type {\n",
       "        vertical-align: middle;\n",
       "    }\n",
       "\n",
       "    .dataframe tbody tr th {\n",
       "        vertical-align: top;\n",
       "    }\n",
       "\n",
       "    .dataframe thead th {\n",
       "        text-align: right;\n",
       "    }\n",
       "</style>\n",
       "<table border=\"1\" class=\"dataframe\">\n",
       "  <thead>\n",
       "    <tr style=\"text-align: right;\">\n",
       "      <th></th>\n",
       "      <th>id</th>\n",
       "      <th>left</th>\n",
       "      <th>top</th>\n",
       "      <th>right</th>\n",
       "      <th>bottom</th>\n",
       "      <th>row_index</th>\n",
       "      <th>col_index</th>\n",
       "      <th>geometry</th>\n",
       "    </tr>\n",
       "  </thead>\n",
       "  <tbody>\n",
       "    <tr>\n",
       "      <th>0</th>\n",
       "      <td>103.0</td>\n",
       "      <td>1.247152e+06</td>\n",
       "      <td>6.184975e+06</td>\n",
       "      <td>1.347152e+06</td>\n",
       "      <td>6.084975e+06</td>\n",
       "      <td>12.0</td>\n",
       "      <td>6.0</td>\n",
       "      <td>POLYGON ((11.20336 48.46744, 12.10168 48.46744...</td>\n",
       "    </tr>\n",
       "    <tr>\n",
       "      <th>1</th>\n",
       "      <td>100.0</td>\n",
       "      <td>1.247152e+06</td>\n",
       "      <td>6.481975e+06</td>\n",
       "      <td>1.347152e+06</td>\n",
       "      <td>6.381975e+06</td>\n",
       "      <td>9.0</td>\n",
       "      <td>6.0</td>\n",
       "      <td>POLYGON ((11.20336 50.20569, 12.10168 50.20569...</td>\n",
       "    </tr>\n",
       "    <tr>\n",
       "      <th>2</th>\n",
       "      <td>101.0</td>\n",
       "      <td>1.247152e+06</td>\n",
       "      <td>6.382975e+06</td>\n",
       "      <td>1.347152e+06</td>\n",
       "      <td>6.282975e+06</td>\n",
       "      <td>10.0</td>\n",
       "      <td>6.0</td>\n",
       "      <td>POLYGON ((11.20336 49.63309, 12.10168 49.63309...</td>\n",
       "    </tr>\n",
       "    <tr>\n",
       "      <th>3</th>\n",
       "      <td>107.0</td>\n",
       "      <td>1.346152e+06</td>\n",
       "      <td>7.273975e+06</td>\n",
       "      <td>1.446152e+06</td>\n",
       "      <td>7.173975e+06</td>\n",
       "      <td>1.0</td>\n",
       "      <td>7.0</td>\n",
       "      <td>POLYGON ((12.09269 54.54458, 12.99101 54.54458...</td>\n",
       "    </tr>\n",
       "    <tr>\n",
       "      <th>4</th>\n",
       "      <td>104.0</td>\n",
       "      <td>1.247152e+06</td>\n",
       "      <td>6.085975e+06</td>\n",
       "      <td>1.347152e+06</td>\n",
       "      <td>5.985975e+06</td>\n",
       "      <td>13.0</td>\n",
       "      <td>6.0</td>\n",
       "      <td>POLYGON ((11.20336 47.87434, 12.10168 47.87434...</td>\n",
       "    </tr>\n",
       "  </tbody>\n",
       "</table>\n",
       "</div>"
      ],
      "text/plain": [
       "      id          left           top         right        bottom  row_index  \\\n",
       "0  103.0  1.247152e+06  6.184975e+06  1.347152e+06  6.084975e+06       12.0   \n",
       "1  100.0  1.247152e+06  6.481975e+06  1.347152e+06  6.381975e+06        9.0   \n",
       "2  101.0  1.247152e+06  6.382975e+06  1.347152e+06  6.282975e+06       10.0   \n",
       "3  107.0  1.346152e+06  7.273975e+06  1.446152e+06  7.173975e+06        1.0   \n",
       "4  104.0  1.247152e+06  6.085975e+06  1.347152e+06  5.985975e+06       13.0   \n",
       "\n",
       "   col_index                                           geometry  \n",
       "0        6.0  POLYGON ((11.20336 48.46744, 12.10168 48.46744...  \n",
       "1        6.0  POLYGON ((11.20336 50.20569, 12.10168 50.20569...  \n",
       "2        6.0  POLYGON ((11.20336 49.63309, 12.10168 49.63309...  \n",
       "3        7.0  POLYGON ((12.09269 54.54458, 12.99101 54.54458...  \n",
       "4        6.0  POLYGON ((11.20336 47.87434, 12.10168 47.87434...  "
      ]
     },
     "execution_count": 4,
     "metadata": {},
     "output_type": "execute_result"
    }
   ],
   "source": [
    "# Read the exported data\n",
    "file_path = os.path.join(out_dir, 'raster', 'ESA_WorldCover_2021_DE.tif')\n",
    "\n",
    "grids_gdf = gpd.read_file(os.path.join(out_dir, 'vector', 'DE_Grids_100sqkm.shp'))\n",
    "grids_gdf = grids_gdf.to_crs('EPSG:4326')\n",
    "print(grids_gdf.shape)\n",
    "grids_gdf.head()"
   ]
  },
  {
   "cell_type": "markdown",
   "id": "041f9738-a50e-47a9-9de3-0ccd0c873dd8",
   "metadata": {},
   "source": [
    "### **Shannon Diversity Index (SHDI)**"
   ]
  },
  {
   "cell_type": "code",
   "execution_count": null,
   "id": "c5c83bfa-cdfa-4806-b58f-4f4a82dfc3d3",
   "metadata": {
    "scrolled": true
   },
   "outputs": [
    {
     "name": "stderr",
     "output_type": "stream",
     "text": [
      "Processing Grids:   0%|          | 0/125 [00:00<?, ?it/s]"
     ]
    }
   ],
   "source": [
    "calculate_shdi_for_grids(\n",
    "    grids_gdf=grids_gdf, \n",
    "    input_raster_path=file_path, \n",
    "    output_dir=os.path.join(out_dir, 'output', 'SHDI_Patch_27x27'),\n",
    "    window_size=27, \n",
    "    n_jobs=70\n",
    ")"
   ]
  }
 ],
 "metadata": {
  "kernelspec": {
   "display_name": "PyTorch CUDA 12.1",
   "language": "python",
   "name": "pytorchcu121"
  },
  "language_info": {
   "codemirror_mode": {
    "name": "ipython",
    "version": 3
   },
   "file_extension": ".py",
   "mimetype": "text/x-python",
   "name": "python",
   "nbconvert_exporter": "python",
   "pygments_lexer": "ipython3",
   "version": "3.12.3"
  }
 },
 "nbformat": 4,
 "nbformat_minor": 5
}
